{
 "cells": [
  {
   "cell_type": "markdown",
   "metadata": {},
   "source": [
    "# Лабораторная работа №2\n",
    "## Выполнил студент группы БСТ1901 Мархель Сергей"
   ]
  },
  {
   "cell_type": "code",
   "execution_count": 111,
   "metadata": {},
   "outputs": [],
   "source": [
    "# Генерация списка\n",
    "import random\n",
    "\n",
    "def random_list(m=50, min=0, max=1000):\n",
    "    return [random.randint(min, max) for _ in range(m)]\n",
    "\n",
    "num = random_list(m=1000)"
   ]
  },
  {
   "cell_type": "markdown",
   "metadata": {},
   "source": [
    "## Задание 1\n",
    "### Бинарный поиск"
   ]
  },
  {
   "cell_type": "code",
   "execution_count": 65,
   "metadata": {},
   "outputs": [],
   "source": [
    "def bin_search(arr, value):\n",
    "    left = 0\n",
    "    right = len(arr) - 1\n",
    "    \n",
    "    while left < right:\n",
    "        mid = (left + right) // 2\n",
    "        if arr[mid] < value:\n",
    "            left = mid + 1\n",
    "        else:\n",
    "            right = mid\n",
    "            \n",
    "    return left"
   ]
  },
  {
   "cell_type": "markdown",
   "metadata": {},
   "source": [
    "### Бинарное дерево"
   ]
  },
  {
   "cell_type": "code",
   "execution_count": 66,
   "metadata": {},
   "outputs": [],
   "source": [
    "class Node:\n",
    "\n",
    "    def __init__(self, data):\n",
    "\n",
    "        self.left = None\n",
    "        self.right = None\n",
    "        self.data = data\n",
    "\n",
    "    def insert(self, data):\n",
    "\n",
    "        if self.data:\n",
    "            if data < self.data:\n",
    "                if self.left is None:\n",
    "                    self.left = Node(data)\n",
    "                else:\n",
    "                    self.left.insert(data)\n",
    "            elif data > self.data:\n",
    "                if self.right is None:\n",
    "                    self.right = Node(data)\n",
    "                else:\n",
    "                    self.right.insert(data) \n",
    "        else:\n",
    "            self.data = data\n",
    "            \n",
    "    def findval(self, lkpval):\n",
    "        if lkpval < self.data:\n",
    "            if self.left is None:\n",
    "                return str(lkpval)+\" Not Found\"\n",
    "            return self.left.findval(lkpval)\n",
    "        elif lkpval > self.data:\n",
    "            if self.right is None:\n",
    "                return str(lkpval)+\" Not Found\"\n",
    "            return self.right.findval(lkpval)\n",
    "        else:\n",
    "            return self.data\n",
    "\n",
    "    def PrintTree(self):\n",
    "        if self.left:\n",
    "            self.left.PrintTree()\n",
    "        print( self.data),\n",
    "        if self.right:\n",
    "            self.right.PrintTree()\n",
    "\n",
    "# Заполняем дерево\n",
    "root = Node(num[0])\n",
    "for m in range(1, len(num)):\n",
    "    root.insert(num[m])\n"
   ]
  },
  {
   "cell_type": "markdown",
   "metadata": {},
   "source": [
    "### Интерполяционный поиск"
   ]
  },
  {
   "cell_type": "code",
   "execution_count": 67,
   "metadata": {},
   "outputs": [],
   "source": [
    "def interpolation(arr, val):\n",
    "    low = 0\n",
    "    high = len(arr)-1\n",
    "    while low <= high and val >= arr[low] and val <= arr[high]:\n",
    "        m = low + (high-low)*(val-arr[low])//(arr[high]-arr[low])\n",
    "        if arr[m] == val:\n",
    "            return m\n",
    "        elif arr[m] < val:\n",
    "            low = m+1\n",
    "        else: \n",
    "            high = m-1\n",
    "    return -1\n",
    "\n"
   ]
  },
  {
   "cell_type": "markdown",
   "metadata": {},
   "source": [
    "### Время"
   ]
  },
  {
   "cell_type": "code",
   "execution_count": 70,
   "metadata": {},
   "outputs": [
    {
     "name": "stdout",
     "output_type": "stream",
     "text": [
      "Бинарный поиск - 0.00012760000026901253\n",
      "Интерполяционный поиск - 0.00011650000033114338\n",
      "Бинарное дерево - 9.999999747378752e-06\n"
     ]
    }
   ],
   "source": [
    "import time\n",
    "functions = {\n",
    "    'Бинарный поиск': bin_search,\n",
    "    'Интерполяционный поиск': interpolation,\n",
    "    'Бинарное дерево': Node,\n",
    "}\n",
    "\n",
    "for name, function in functions.items():\n",
    "    time_start = time.perf_counter()\n",
    "    if name == 'Бинарное дерево':\n",
    "        root.findval(num[100])\n",
    "    else:\n",
    "        function(sorted(num), num[100])\n",
    "    print(f'{name} - {time.perf_counter() - time_start}')\n",
    "    "
   ]
  },
  {
   "cell_type": "markdown",
   "metadata": {},
   "source": [
    "## Задание 2"
   ]
  },
  {
   "cell_type": "markdown",
   "metadata": {},
   "source": [
    "### Простое рехеширование "
   ]
  },
  {
   "cell_type": "code",
   "execution_count": 3,
   "metadata": {},
   "outputs": [],
   "source": [
    "class Hash:\n",
    "    def __init__(self):\n",
    "        self.data = []\n",
    "        self.size = 0\n",
    "        self._resize()\n",
    "\n",
    "    def _hash(self, value, i):\n",
    "        return (hash(value) + i) % len(self.data)\n",
    "\n",
    "    def _resize(self):\n",
    "        temp = self.data\n",
    "        self.data = [None] * (2*len(self.data) + 1)\n",
    "        for item in temp:\n",
    "            if item is not None:\n",
    "                self.data[self._rehash(item)] = item\n",
    "\n",
    "\n",
    "    def _rehash(self, value):\n",
    "        i = 0\n",
    "        index = self._hash(value, i)\n",
    "\n",
    "        while self.data[index] is not None:\n",
    "            i += 1\n",
    "            index = self._hash(value, i)\n",
    "\n",
    "        return index\n",
    "\n",
    "    def set_item(self, value):\n",
    "        if self.size + 1 > len(self.data) // 2:\n",
    "            self._resize()\n",
    "\n",
    "        index = self._rehash(value)\n",
    "\n",
    "        if self.data[index] is None:  \n",
    "            self.size += 1\n",
    "\n",
    "        self.data[index] = value\n",
    "\n",
    "    def print_data(self):\n",
    "        print(self.data)"
   ]
  },
  {
   "cell_type": "markdown",
   "metadata": {},
   "source": [
    "### Рехеширование с помощью всевдослучайных чисел"
   ]
  },
  {
   "cell_type": "code",
   "execution_count": null,
   "metadata": {},
   "outputs": [],
   "source": [
    "class RandomHash(Hash):\n",
    "    _rand_num = [2309]\n",
    "\n",
    "    def _rand(self, i):\n",
    "        if len(self._rand_num) - 1 < i:\n",
    "            self._rand_num.append(self._rand(i - 1))\n",
    "        return (123456789 * self._rand_num[i] + 987654321) % 65546\n",
    "\n",
    "    def _hash(self, value, i):\n",
    "        return (hash(value) + self._rand(i)) % len(self.data)"
   ]
  },
  {
   "cell_type": "markdown",
   "metadata": {},
   "source": [
    "### Метод цепочек"
   ]
  },
  {
   "cell_type": "code",
   "execution_count": 4,
   "metadata": {},
   "outputs": [],
   "source": [
    "class ChainHash:\n",
    "    def __init__(self):\n",
    "        self.data = []\n",
    "        self.size = 0\n",
    "        self._resize()\n",
    "\n",
    "    def _resize(self):\n",
    "        temp = self.data\n",
    "        self.data = [None] * (2*len(self.data) + 1)\n",
    "        for item in temp:\n",
    "            if item is not None:\n",
    "                self.data[self._hash(item)] = item\n",
    "\n",
    "    def _hash(self, value):\n",
    "        print(hash(value) % len(self.data))\n",
    "        return hash(value) % len(self.data)\n",
    "\n",
    "    def set_item(self, value):\n",
    "        if self.size + 1 > len(self.data) // 2:\n",
    "            self._resize()\n",
    "\n",
    "        index = self._hash(value)\n",
    "\n",
    "        if self.data[index] is None:  \n",
    "            self.size += 1\n",
    "            self.data[index] = value\n",
    "        else:\n",
    "            if type(self.data[index]) == list:\n",
    "                self.data[index].append(value)\n",
    "            else:\n",
    "                self.data[index] = [self.data[index]]\n",
    "                self.data[index].append(value)\n",
    "\n",
    "    def print_data(self):\n",
    "        print(self.data)"
   ]
  },
  {
   "cell_type": "markdown",
   "metadata": {},
   "source": [
    "## Задание 3"
   ]
  },
  {
   "cell_type": "code",
   "execution_count": 109,
   "metadata": {
    "scrolled": false
   },
   "outputs": [
    {
     "data": {
      "text/plain": [
       "[[1, 0, 0, 0, 0, 0, 0, 0],\n",
       " [0, 0, 1, 0, 0, 0, 0, 0],\n",
       " [0, 0, 0, 0, 1, 0, 0, 0],\n",
       " [0, 0, 0, 0, 0, 0, 1, 0],\n",
       " [0, 1, 0, 0, 0, 0, 0, 0],\n",
       " [0, 0, 0, 1, 0, 0, 0, 0],\n",
       " [0, 0, 0, 0, 0, 1, 0, 0],\n",
       " [0, 0, 0, 0, 0, 0, 0, 1]]"
      ]
     },
     "execution_count": 109,
     "metadata": {},
     "output_type": "execute_result"
    }
   ],
   "source": [
    "chess = [[0 for _ in range(8)] for _ in range(8)]\n",
    "\n",
    "def can_stand(chess, row, column):\n",
    "    i_p = 0\n",
    "    i_m = 0\n",
    "    for r in range(8):\n",
    "        if chess[r][column] == 1:\n",
    "            return False\n",
    "    for c in range(column):\n",
    "        if chess[row][c] == 1:\n",
    "            return False\n",
    "    for r in range(row, 8):\n",
    "        if column + i_p >= 8: break\n",
    "        if chess[r][column + i_p] == 1 or chess[r][column - i_p] == 1:\n",
    "            return False\n",
    "        i_p += 1\n",
    "    for r in range(row, -1, -1):\n",
    "        if column - i_m >= 8: break\n",
    "        if chess[r][column + i_m] == 1 or chess[r][column - i_m] == 1:\n",
    "            return False\n",
    "        i_m -= 1\n",
    "    return True\n",
    "\n",
    "\n",
    "def queen(chess, row=0, column=0):\n",
    "    if row > 7:\n",
    "        return True\n",
    "    for col in range(column, 8):\n",
    "        if can_stand(chess, row, col):\n",
    "            chess[row][col] = 1\n",
    "            if col + 1 >= 7: col = 0\n",
    "            queen(chess, row=row+1, column=col)\n",
    "            break\n",
    "\n",
    "queen(chess)\n",
    "chess"
   ]
  },
  {
   "cell_type": "code",
   "execution_count": null,
   "metadata": {},
   "outputs": [],
   "source": []
  },
  {
   "cell_type": "code",
   "execution_count": null,
   "metadata": {},
   "outputs": [],
   "source": []
  }
 ],
 "metadata": {
  "kernelspec": {
   "display_name": "Python 3",
   "language": "python",
   "name": "python3"
  },
  "language_info": {
   "codemirror_mode": {
    "name": "ipython",
    "version": 3
   },
   "file_extension": ".py",
   "mimetype": "text/x-python",
   "name": "python",
   "nbconvert_exporter": "python",
   "pygments_lexer": "ipython3",
   "version": "3.8.5"
  }
 },
 "nbformat": 4,
 "nbformat_minor": 5
}
