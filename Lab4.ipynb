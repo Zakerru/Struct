{
 "cells": [
  {
   "cell_type": "markdown",
   "metadata": {},
   "source": [
    "# Лабораторная работа №3. Методы поиска подстроки в строке.\n",
    "## Выполнил студент группы БСТ1901 Мархель Сергей."
   ]
  },
  {
   "cell_type": "markdown",
   "metadata": {},
   "source": [
    "### Стек"
   ]
  },
  {
   "cell_type": "code",
   "execution_count": 90,
   "metadata": {},
   "outputs": [],
   "source": [
    "class Stack:\n",
    "    def __init__(self):\n",
    "        self.stack = []\n",
    "\n",
    "    def is_empty(self):\n",
    "        return len(self.stack) == 0\n",
    "\n",
    "    def push(self, value):\n",
    "        self.stack.append(value)\n",
    "\n",
    "    def peek(self):\n",
    "        if self.is_empty():\n",
    "            raise Exception(\"Stack is empty\")\n",
    "        return self.stack[-1]\n",
    "\n",
    "    def pop(self):\n",
    "        if self.is_empty():\n",
    "            raise Exception(\"Stack is empty\")\n",
    "        return self.stack.pop()\n",
    "\n",
    "    def size(self):\n",
    "        return len(self.stack)\n",
    "\n",
    "    def print(self):\n",
    "        print(self.stack)\n"
   ]
  },
  {
   "cell_type": "markdown",
   "metadata": {},
   "source": [
    "### Дек"
   ]
  },
  {
   "cell_type": "code",
   "execution_count": 91,
   "metadata": {},
   "outputs": [],
   "source": [
    "class Deque:\n",
    "    def __init__(self):\n",
    "        self.deque = []\n",
    "\n",
    "    def is_empty(self):\n",
    "        return len(self.deque) == 0\n",
    "\n",
    "    def add_first(self, value):\n",
    "        self.deque.insert(0, value)\n",
    "\n",
    "    def add_last(self, value):\n",
    "        self.deque.append(value)\n",
    "\n",
    "    def pop_first(self):\n",
    "        if self.is_empty():\n",
    "            raise Exception(\"Deque is empty\")\n",
    "        return self.deque.pop(0)\n",
    "\n",
    "    def pop_last(self):\n",
    "        if self.is_empty():\n",
    "            raise Exception(\"Deque is empty\")\n",
    "        return self.deque.pop()\n",
    "\n",
    "    def peek_first(self):\n",
    "        if self.is_empty():\n",
    "            raise Exception(\"Deque is empty\")\n",
    "        return self.deque[0]\n",
    "\n",
    "    def peek_last(self):\n",
    "        if self.is_empty():\n",
    "            raise Exception(\"Deque is empty\")\n",
    "        return self.deque[-1]\n",
    "\n",
    "    def size(self):\n",
    "        return len(self.deque)\n",
    "\n",
    "    def print(self):\n",
    "        print(self.deque)"
   ]
  },
  {
   "cell_type": "markdown",
   "metadata": {},
   "source": [
    "### Задание 1"
   ]
  },
  {
   "cell_type": "code",
   "execution_count": 92,
   "metadata": {},
   "outputs": [
    {
     "name": "stdout",
     "output_type": "stream",
     "text": [
      "А\n",
      "Б\n",
      "\n",
      "В\n",
      "\n"
     ]
    }
   ],
   "source": [
    "with open('books.txt', 'r', encoding='utf-8') as f:\n",
    "    d1 = Deque()\n",
    "    d2 = Deque()\n",
    "\n",
    "    for book in f:\n",
    "        d1.add_last(book)\n",
    "\n",
    "    while not d1.is_empty():\n",
    "        x = d1.pop_last()\n",
    "        while not d2.is_empty() and d2.peek_last() < x:\n",
    "            d1.add_first(d2.pop_last())\n",
    "        d2.add_last(x)\n",
    "\n",
    "    while not d2.is_empty():\n",
    "        print(d2.pop_last())"
   ]
  },
  {
   "cell_type": "markdown",
   "metadata": {},
   "source": [
    "### Задание 2"
   ]
  },
  {
   "cell_type": "code",
   "execution_count": 93,
   "metadata": {},
   "outputs": [
    {
     "name": "stdout",
     "output_type": "stream",
     "text": [
      "абвгд\n"
     ]
    }
   ],
   "source": [
    "alphabet = list('абвгдеёжзийклмнопрстуфхцчшщъыьэюя')\n",
    "\n",
    "keyRing = Deque()\n",
    "for letter in alphabet:\n",
    "    keyRing.add_last(letter)\n",
    "\n",
    "def decode_char(c):\n",
    "    for i in range(keyRing.size()):\n",
    "        x = keyRing.pop_last()\n",
    "        if x == c:\n",
    "            keyRing.add_first(x)\n",
    "            val = keyRing.pop_last()\n",
    "            keyRing.add_first(val)\n",
    "            return val\n",
    "        keyRing.add_first(x)\n",
    "\n",
    "text = 'бвгде'\n",
    "\n",
    "\n",
    "\n",
    "decoded = ''\n",
    "for letter in text:\n",
    "    if decoded_letter := decode_char(letter):\n",
    "        decoded += decoded_letter\n",
    "    else:\n",
    "        decoded += letter\n",
    "print(decoded)"
   ]
  },
  {
   "cell_type": "markdown",
   "metadata": {},
   "source": [
    "### Задание 3"
   ]
  },
  {
   "cell_type": "code",
   "execution_count": 94,
   "metadata": {
    "tags": []
   },
   "outputs": [
    {
     "name": "stdout",
     "output_type": "stream",
     "text": [
      "1\n",
      "2\n",
      "3\n",
      "4\n",
      "5\n",
      "6\n",
      "7\n",
      "8\n",
      "9\n",
      "10\n"
     ]
    }
   ],
   "source": [
    "A = Stack()\n",
    "B = Stack()\n",
    "C = Stack()\n",
    "\n",
    "disks = 10\n",
    "\n",
    "for i in range(disks, 0, -1):\n",
    "    A.push(i)\n",
    "\n",
    "\n",
    "def move(a, b):\n",
    "    if a.is_empty() and not b.is_empty():\n",
    "        a.push(b.pop())\n",
    "    elif not a.is_empty() and b.is_empty():\n",
    "        b.push(a.pop())\n",
    "    elif a.peek() > b.peek():\n",
    "        a.push(b.pop())\n",
    "    else:\n",
    "        b.push(a.pop())\n",
    "\n",
    "\n",
    "if disks % 2 == 0:\n",
    "    while C.size() != disks:\n",
    "        move(A, B)\n",
    "        move(A, C)\n",
    "        move(B, C)\n",
    "else:\n",
    "    while C.size() != disks:\n",
    "        move(A, C)\n",
    "        move(A, B)\n",
    "        move(B, C)\n",
    "\n",
    "while not C.is_empty():\n",
    "    print(C.pop())"
   ]
  },
  {
   "cell_type": "markdown",
   "metadata": {},
   "source": [
    "### Задание 4"
   ]
  },
  {
   "cell_type": "code",
   "execution_count": 95,
   "metadata": {},
   "outputs": [
    {
     "name": "stdout",
     "output_type": "stream",
     "text": [
      "False\n",
      "True\n"
     ]
    }
   ],
   "source": [
    "def check_brackets(string):\n",
    "    bracket_stack = Stack()\n",
    "    for i in string:\n",
    "        if i == '(':\n",
    "            bracket_stack.push(i)\n",
    "        elif i == ')':\n",
    "            if bracket_stack.is_empty():\n",
    "                return False\n",
    "            bracket_stack.pop()\n",
    "    return bracket_stack.is_empty()\n",
    "\n",
    "print(check_brackets('()())'))\n",
    "print(check_brackets('(()())()()()()(()(()(())()))'))"
   ]
  },
  {
   "cell_type": "markdown",
   "metadata": {},
   "source": [
    "### Задание 5"
   ]
  },
  {
   "cell_type": "code",
   "execution_count": 96,
   "metadata": {},
   "outputs": [
    {
     "name": "stdout",
     "output_type": "stream",
     "text": [
      "True\n",
      "False\n"
     ]
    }
   ],
   "source": [
    "def check_square_brackets(string):\n",
    "    bracket_stack = Deque()\n",
    "    for i in string:\n",
    "        if i == '[':\n",
    "            bracket_stack.add_last(i)\n",
    "        elif i == ']':\n",
    "            if bracket_stack.is_empty():\n",
    "                return False\n",
    "            bracket_stack.pop_last()\n",
    "    return bracket_stack.is_empty()\n",
    "\n",
    "print(check_square_brackets('[]'))\n",
    "print(check_square_brackets('[[]]]'))"
   ]
  },
  {
   "cell_type": "markdown",
   "metadata": {},
   "source": [
    "### Задание 6"
   ]
  },
  {
   "cell_type": "code",
   "execution_count": 97,
   "metadata": {},
   "outputs": [
    {
     "name": "stdout",
     "output_type": "stream",
     "text": [
      "123символы.,//\n"
     ]
    }
   ],
   "source": [
    "text = '.си1,м/2/во3лы'\n",
    "\n",
    "letters = Stack()\n",
    "digits = Stack()\n",
    "others = Stack()\n",
    "\n",
    "for c in text:\n",
    "    if c.isalpha():\n",
    "        letters.push(c)\n",
    "    elif c.isdigit():\n",
    "        digits.push(c)\n",
    "    else:\n",
    "        others.push(c)\n",
    "\n",
    "new_text = ''\n",
    "\n",
    "\n",
    "while not others.is_empty():\n",
    "    new_text += others.pop()\n",
    "\n",
    "while not letters.is_empty():\n",
    "    new_text += letters.pop()\n",
    "\n",
    "while not digits.is_empty():\n",
    "    new_text += digits.pop()\n",
    "print(new_text[::-1])"
   ]
  },
  {
   "cell_type": "markdown",
   "metadata": {},
   "source": [
    "### Задание 7"
   ]
  },
  {
   "cell_type": "code",
   "execution_count": 98,
   "metadata": {},
   "outputs": [
    {
     "name": "stdout",
     "output_type": "stream",
     "text": [
      "[5, -5, 1, -8, -7, 2, -8, -8, -10, -9]\n",
      "-5\n",
      "-8\n",
      "-7\n",
      "-8\n",
      "-8\n",
      "-10\n",
      "-9\n",
      "5\n",
      "1\n",
      "2\n"
     ]
    }
   ],
   "source": [
    "\n",
    "import random\n",
    "\n",
    "numbers = [random.randint(-10, 10) for i in range(10)]\n",
    "print(numbers)\n",
    "\n",
    "deque = Deque()\n",
    "for n in numbers:\n",
    "    if n < 0:\n",
    "        deque.add_first(n)\n",
    "    else:\n",
    "        deque.add_last(n)\n",
    "\n",
    "while not deque.is_empty():\n",
    "    x = deque.pop_first()\n",
    "    if x < 0:\n",
    "        deque.add_last(x)\n",
    "    else:\n",
    "        deque.add_first(x)\n",
    "        break\n",
    "\n",
    "while not deque.is_empty():\n",
    "    x = deque.pop_last()\n",
    "    if x < 0:\n",
    "        print(x)\n",
    "    else:\n",
    "        deque.add_last(x)\n",
    "        break\n",
    "\n",
    "while not deque.is_empty():\n",
    "    print(deque.pop_first())\n"
   ]
  },
  {
   "cell_type": "markdown",
   "metadata": {},
   "source": [
    "### Задание 8"
   ]
  },
  {
   "cell_type": "code",
   "execution_count": 99,
   "metadata": {},
   "outputs": [
    {
     "name": "stdout",
     "output_type": "stream",
     "text": [
      "Б\n",
      "В\n",
      "А\n",
      "-----------------------------\n",
      "А\n",
      "В\n",
      "Б\n"
     ]
    }
   ],
   "source": [
    "with open('books.txt', 'r', encoding='utf-8') as books:\n",
    "    stack = Stack()\n",
    "    for book in books:\n",
    "        book = book.strip()\n",
    "        print(book)\n",
    "        stack.push(book)\n",
    "    print('-----------------------------')\n",
    "    while not stack.is_empty():\n",
    "        print(stack.pop())\n"
   ]
  },
  {
   "cell_type": "markdown",
   "metadata": {},
   "source": [
    "### Задание 9"
   ]
  },
  {
   "cell_type": "code",
   "execution_count": 100,
   "metadata": {},
   "outputs": [
    {
     "name": "stdout",
     "output_type": "stream",
     "text": [
      "T\n"
     ]
    }
   ],
   "source": [
    "text = '((T)XF)X(TAT)OT'\n",
    "\n",
    "opstack = Stack()\n",
    "vstack = Stack()\n",
    "\n",
    "cur = 0\n",
    "while True:\n",
    "    read = False\n",
    "    if not opstack.is_empty():\n",
    "        if opstack.peek() == 'N':\n",
    "            if vstack.is_empty():\n",
    "                read = True\n",
    "            else:\n",
    "                if vstack.pop() == 'T':\n",
    "                    vstack.push('F')\n",
    "                else:\n",
    "                    vstack.push('T')\n",
    "                opstack.pop()\n",
    "        elif opstack.peek() == 'A':\n",
    "            if vstack.size() < 2:\n",
    "                read = True\n",
    "            else:\n",
    "                a = vstack.pop()\n",
    "                b = vstack.pop()\n",
    "                if a == b and b == 'T':\n",
    "                    vstack.push('T')\n",
    "                else:\n",
    "                    vstack.push('F')\n",
    "                opstack.pop()\n",
    "        elif opstack.peek() == 'O':\n",
    "            if vstack.size() < 2:\n",
    "                read = True\n",
    "            else:\n",
    "                a = vstack.pop()\n",
    "                b = vstack.pop()\n",
    "                if a == 'T' or b == 'T':\n",
    "                    vstack.push('T')\n",
    "                else:\n",
    "                    vstack.push('F')\n",
    "                opstack.pop()\n",
    "        elif opstack.peek() == 'X':\n",
    "            if vstack.size() < 2:\n",
    "                read = True\n",
    "            else:\n",
    "                a = vstack.pop()\n",
    "                b = vstack.pop()\n",
    "                if a != b:\n",
    "                    vstack.push('T')\n",
    "                else:\n",
    "                    vstack.push('F')\n",
    "                opstack.pop()\n",
    "        elif opstack.peek() == '(':\n",
    "            read = True\n",
    "        elif opstack.peek() == ')':\n",
    "            opstack.pop()\n",
    "            opstack.pop()\n",
    "    else:\n",
    "        read = True\n",
    "    if read:\n",
    "        i = text[cur]\n",
    "        if i in 'FT':\n",
    "            vstack.push(i)\n",
    "        if i in 'AXON()':\n",
    "            opstack.push(i)\n",
    "        cur += 1\n",
    "    \n",
    "\n",
    "    if cur == len(text) and opstack.size() == 0:\n",
    "        break\n",
    "\n",
    "while not vstack.is_empty():\n",
    "    print(vstack.pop())"
   ]
  },
  {
   "cell_type": "markdown",
   "metadata": {},
   "source": [
    "### Задание 10"
   ]
  },
  {
   "cell_type": "code",
   "execution_count": 101,
   "metadata": {},
   "outputs": [
    {
     "name": "stdout",
     "output_type": "stream",
     "text": [
      "7\n"
     ]
    }
   ],
   "source": [
    "text = 'N(10, M(4, N(8, M(7, M(6, M(5, 4))))))'\n",
    "\n",
    "op = Stack()\n",
    "nums = Stack()\n",
    "\n",
    "num = ''\n",
    "\n",
    "cur = 0\n",
    "while cur < len(text):\n",
    "    i = text[cur]\n",
    "    if i.isdigit():\n",
    "        num += i\n",
    "    elif num != '':\n",
    "        nums.push(int(num))\n",
    "        num = ''\n",
    "    if i in 'MN':\n",
    "        op.push(i)\n",
    "    cur += 1\n",
    "\n",
    "while not op.is_empty():\n",
    "    a = nums.pop()\n",
    "    b = nums.pop()\n",
    "    if a < b:\n",
    "        a,b = b,a\n",
    "    if op.pop() == 'M':\n",
    "        nums.push(a)\n",
    "    else:\n",
    "        nums.push(b)\n",
    "\n",
    "while not nums.is_empty():\n",
    "    print(nums.pop())"
   ]
  },
  {
   "cell_type": "markdown",
   "metadata": {},
   "source": [
    "### Задание 11"
   ]
  },
  {
   "cell_type": "code",
   "execution_count": 102,
   "metadata": {},
   "outputs": [
    {
     "data": {
      "text/plain": [
       "True"
      ]
     },
     "execution_count": 102,
     "metadata": {},
     "output_type": "execute_result"
    }
   ],
   "source": [
    "def check(text):\n",
    "    stack = Stack()\n",
    "\n",
    "    cur = 0\n",
    "    while True:\n",
    "        read = False\n",
    "        if not stack.is_empty():\n",
    "            if stack.peek() == '(':\n",
    "                read = True\n",
    "            elif stack.peek() == ')':\n",
    "                stack.pop()\n",
    "                if stack.size() < 2 or stack.pop() != 'formula' or stack.pop() != '(':\n",
    "                    return False\n",
    "                stack.push('formula')\n",
    "            elif stack.peek() == 'formula':\n",
    "                stack.pop()\n",
    "                if stack.size() > 1 and stack.peek() in '+-':\n",
    "                    if stack.pop() in '+-' and stack.pop() == 'formula':\n",
    "                        stack.push('formula')\n",
    "                    else:\n",
    "                        return False\n",
    "                else:\n",
    "                    stack.push('formula')\n",
    "                    read = True\n",
    "            else:\n",
    "                read = True\n",
    "        else:\n",
    "            read = True\n",
    "        if read:\n",
    "            i = text[cur]\n",
    "            if i in 'xyz':\n",
    "                stack.push('formula')\n",
    "            elif i in '()+-':\n",
    "                stack.push(i)\n",
    "            cur += 1\n",
    "        if cur == len(text) and stack.size() == 1:\n",
    "            break\n",
    "    return True\n",
    "\n",
    "check('((x + y) + (x - y) + z)')"
   ]
  }
 ],
 "metadata": {
  "kernelspec": {
   "display_name": "Python 3",
   "language": "python",
   "name": "python3"
  },
  "language_info": {
   "codemirror_mode": {
    "name": "ipython",
    "version": 3
   },
   "file_extension": ".py",
   "mimetype": "text/x-python",
   "name": "python",
   "nbconvert_exporter": "python",
   "pygments_lexer": "ipython3",
   "version": "3.8.5"
  }
 },
 "nbformat": 4,
 "nbformat_minor": 2
}
