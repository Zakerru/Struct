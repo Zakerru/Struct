{
 "cells": [
  {
   "cell_type": "markdown",
   "metadata": {},
   "source": [
    "# Мархель Сергей\n",
    "## Группа: БСТ1901\n",
    "### Problems_1"
   ]
  },
  {
   "cell_type": "markdown",
   "metadata": {},
   "source": [
    "### Задание 1"
   ]
  },
  {
   "cell_type": "code",
   "execution_count": 46,
   "metadata": {},
   "outputs": [
    {
     "name": "stdout",
     "output_type": "stream",
     "text": [
      "5\n",
      "0\n",
      "10\n",
      "8\n"
     ]
    }
   ],
   "source": [
    "def is_triangle(a, b, c):\n",
    "    if a + b > c and a + c > b and b + c > a:\n",
    "        return True\n",
    "    else:\n",
    "        return False\n",
    "\n",
    "def get_max_triangle(arr):\n",
    "    if len(arr) < 3:\n",
    "        return 0\n",
    "    arr = sorted(arr, reverse=True)\n",
    "    sides = arr[:3]\n",
    "    if is_triangle(sides[0], sides[1], sides[2]):\n",
    "        return sides[0] + sides[1] + sides[2]\n",
    "    else:\n",
    "        return get_max_triangle(arr[1:])\n",
    "\n",
    "\n",
    "print(get_max_triangle([2,1,2]))\n",
    "print(get_max_triangle([1,2,1]))\n",
    "print(get_max_triangle([3,2,3,4]))\n",
    "print(get_max_triangle([3,6,2,3]))"
   ]
  },
  {
   "cell_type": "markdown",
   "metadata": {},
   "source": [
    "### Задание 2"
   ]
  },
  {
   "cell_type": "code",
   "execution_count": 47,
   "metadata": {},
   "outputs": [
    {
     "data": {
      "text/plain": [
       "'95021'"
      ]
     },
     "execution_count": 47,
     "metadata": {},
     "output_type": "execute_result"
    }
   ],
   "source": [
    "def highest_comb(L):\n",
    "    max_length = len(str(max(L)))\n",
    "    L = map(str, L)\n",
    "    def sort_key(s):\n",
    "        return s + s[-1] * (max_length - len(s))\n",
    "\n",
    "    sorted_list = sorted(L, key=sort_key, reverse=True)\n",
    "    return ''.join(sorted_list)\n",
    "\n",
    "highest_comb([50, 9, 2, 1])"
   ]
  },
  {
   "cell_type": "markdown",
   "metadata": {},
   "source": [
    "### Задание 3"
   ]
  },
  {
   "cell_type": "code",
   "execution_count": 48,
   "metadata": {},
   "outputs": [
    {
     "name": "stdout",
     "output_type": "stream",
     "text": [
      "Исходная матрица:\n",
      " [[ 3 17 14 10]\n",
      " [16  6 18 10]\n",
      " [ 4 18 11  3]\n",
      " [ 8 12 15 18]]\n",
      "Результат:\n",
      " [[ 3  3 10 10]\n",
      " [15  6 17 14]\n",
      " [ 4 16 11 18]\n",
      " [ 8 12 18 18]]\n"
     ]
    }
   ],
   "source": [
    "import numpy\n",
    "\n",
    "m = 4\n",
    "n = 4\n",
    "massiv = numpy.random.randint(0, 20, size=(m, n))\n",
    "print(\"Исходная матрица:\\n\", massiv)\n",
    "\n",
    "for i in range(-len(massiv) + 1, len(massiv) + m % n):\n",
    "    d = numpy.diag(massiv, i)\n",
    "    d = numpy.sort(d)\n",
    "    massiv.ravel()[max(i,-massiv.shape[1]*i):max(0,(massiv.shape[1]-i))*massiv.shape[1]:massiv.shape[1]+1] = d\n",
    "\n",
    "print(\"Результат:\\n\",massiv)"
   ]
  }
 ],
 "metadata": {
  "kernelspec": {
   "display_name": "Python 3",
   "language": "python",
   "name": "python3"
  },
  "language_info": {
   "codemirror_mode": {
    "name": "ipython",
    "version": 3
   },
   "file_extension": ".py",
   "mimetype": "text/x-python",
   "name": "python",
   "nbconvert_exporter": "python",
   "pygments_lexer": "ipython3",
   "version": "3.8.5"
  }
 },
 "nbformat": 4,
 "nbformat_minor": 2
}
