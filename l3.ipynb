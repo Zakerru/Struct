{
 "cells": [
  {
   "cell_type": "markdown",
   "metadata": {},
   "source": [
    "# Лабораторная работа №3. Методы поиска подстроки в строке.\n",
    "## Выполнил студент группы БСТ1901 Мархель Сергей.\n"
   ]
  },
  {
   "cell_type": "markdown",
   "metadata": {},
   "source": [
    "### Задание 1\n",
    "### Алгоритм Кнута-Морриса-Пратта"
   ]
  },
  {
   "cell_type": "code",
   "execution_count": 49,
   "metadata": {},
   "outputs": [],
   "source": [
    "def prefix(s):\n",
    "    v = [0]*len(s)\n",
    "    for i in range(1,len(s)):\n",
    "        k = v[i-1]\n",
    "        while k > 0 and s[k] != s[i]:\n",
    "            k = v[k-1]\n",
    "        if s[k] == s[i]:\n",
    "            k = k + 1\n",
    "        v[i] = k\n",
    "    return v\n",
    "\n",
    "def kmp(s, t):\n",
    "    index = -1\n",
    "    f = prefix(s)\n",
    "    k = 0\n",
    "    for i in range(len(t)):\n",
    "        while k > 0 and s[k] != t[i]:\n",
    "            k = f[k-1]\n",
    "        if s[k] == t[i]:\n",
    "            k = k + 1\n",
    "        if k == len(s):\n",
    "            index = i - len(s) + 1\n",
    "            break\n",
    "    return index"
   ]
  },
  {
   "cell_type": "markdown",
   "metadata": {},
   "source": [
    "### Упрощенный Бойера-Мура"
   ]
  },
  {
   "cell_type": "code",
   "execution_count": 84,
   "metadata": {},
   "outputs": [
    {
     "data": {
      "text/plain": [
       "3"
      ]
     },
     "execution_count": 84,
     "metadata": {},
     "output_type": "execute_result"
    }
   ],
   "source": [
    "def bmPredCompil(x):\n",
    "    d = {}\n",
    "    lenX = len(x)\n",
    "    for i in range(len(x)):\n",
    "        # сколько символов с правого края до этой буквы\n",
    "        d[ord(x[i])] = lenX - i\n",
    "    return d\n",
    "\n",
    "def boyerMurSearch(x, s):\n",
    "    d = bmPredCompil(x)\n",
    "    # k - проход по s\n",
    "    # j - проход по x\n",
    "    # i - место начала прохода по s\n",
    "    lenX = i = j = k = len(x)\n",
    "    while j > 0 and i<=len(s):\n",
    "     # совпали, двигаемся дальше (от конца к началу)\n",
    "        if s[k-1] == x[j-1]:\n",
    "            k -= 1\n",
    "            j -= 1\n",
    "        # иначе, продвигаемся по строке на d и начинаем с правого конца подстроки снова\n",
    "        else:\n",
    "            i += d[ord(s[i])]\n",
    "            j = lenX\n",
    "            k = i\n",
    "    if j <= 0:# нашли\n",
    "        return k\n",
    "    return None # не нашли\n",
    "\n",
    "def search(s, t, alg=kmp, ignore_case=False, ignore_space=False):\n",
    "    if ignore_case:\n",
    "        s = s.lower()\n",
    "        t = t.lower()\n",
    "        \n",
    "    if ignore_space:\n",
    "        s = s.replace(' ', '')\n",
    "        t = t.replace(' ', '')\n",
    "        \n",
    "    return alg(s, t)"
   ]
  },
  {
   "cell_type": "code",
   "execution_count": 82,
   "metadata": {},
   "outputs": [
    {
     "name": "stdout",
     "output_type": "stream",
     "text": [
      "Кнута-Морриса-Пратта - 1.4400000054592965e-05\n",
      "Бойера-Мура - 1.4299999747890979e-05\n",
      "Встроенная сортировка - 7.719999985056347e-05\n"
     ]
    }
   ],
   "source": [
    "import time\n",
    "import string\n",
    "\n",
    "alg = {\n",
    "    'Кнута-Морриса-Пратта': kmp,\n",
    "    'Бойера-Мура': boyerMurSearch,\n",
    "      }\n",
    "\n",
    "for key, a in alg.items():\n",
    "    time_start = time.perf_counter()\n",
    "    search('acD', 'aaaacd', alg=a, ignore_case=True, ignore_space=True)\n",
    "    print(f'{key} - {time.perf_counter() - time_start}')\n",
    "    \n",
    "time_start = time.perf_counter()\n",
    "'aaaacd'.find('acD')\n",
    "print(f'Встроенная сортировка - {time.perf_counter() - time_start}')"
   ]
  },
  {
   "cell_type": "markdown",
   "metadata": {},
   "source": [
    "### Задание 2"
   ]
  },
  {
   "cell_type": "code",
   "execution_count": 1,
   "metadata": {},
   "outputs": [
    {
     "name": "stdout",
     "output_type": "stream",
     "text": [
      "  1  2  3  4\n",
      "  5  6  7  8\n",
      " 13  9 11 12\n",
      " 10 14 15  0\n",
      "\n",
      "[15, 14, 10, 13, 9, 10, 14, 15]\n"
     ]
    }
   ],
   "source": [
    "from queue import PriorityQueue\n",
    "\n",
    "N = 4\n",
    "\n",
    "def moves(position):\n",
    "    blank = position.index(0)\n",
    "    i, j = divmod(blank, N)\n",
    "    offsets = []\n",
    "    if i > 0: offsets.append(-N)     # вниз\n",
    "    if i < N - 1: offsets.append(N)  # вверх\n",
    "    if j > 0: offsets.append(-1)     # вправо\n",
    "    if j < N - 1: offsets.append(1)  # влево\n",
    "    for offset in offsets:\n",
    "        swap = blank + offset\n",
    "        yield tuple(position[swap] if x==blank else position[blank] if x==swap else position[x] for x in range(N*N))\n",
    "\n",
    "\n",
    "def parity(permutation):\n",
    "    seen, cycles = set(), 0\n",
    "    for i in permutation:\n",
    "        if i not in seen:\n",
    "            cycles += 1\n",
    "            while i not in seen:\n",
    "                seen.add(i)\n",
    "                i = permutation[i]\n",
    "    return (cycles + len(permutation)) % 2\n",
    "\n",
    "\n",
    "class Position:\n",
    "    def __init__(self, position, start_distance):\n",
    "        self.position = position\n",
    "        self.start_distance = start_distance\n",
    "\n",
    "    def __lt__(self, other):\n",
    "        return self.start_distance < other.start_distance\n",
    "\n",
    "    def __str__(self):\n",
    "        return '\\n'.join((N*'{:3}').format(*[i%(N*N) for i in self.position[i:]]) for i in range(0, N*N, N))\n",
    "\n",
    "SOLVED = (1, 2, 3, 4, 5, 6, 7, 8, 9, 10, 11, 12, 13, 14, 15, 0)\n",
    "\n",
    "start = [1, 2, 3, 4, 5, 6, 7, 8, 13, 9, 11, 12, 10, 14, 15, 0]\n",
    "\n",
    "if parity(start) == 0:\n",
    "    # https://en.wikipedia.org/wiki/15_puzzle#Solvability\n",
    "    print('Нерешаемо')\n",
    "else:\n",
    "    start = tuple(start)\n",
    "\n",
    "    p = Position(start, 0)\n",
    "\n",
    "    print(p)\n",
    "    print()\n",
    "\n",
    "    candidates = PriorityQueue()\n",
    "    candidates.put(p)\n",
    "\n",
    "    visited = set([p])\n",
    "\n",
    "    came_from = {p.position: None}\n",
    "    \n",
    "    while p.position != SOLVED:\n",
    "        p = candidates.get()\n",
    "        for k in moves(p.position):\n",
    "            if k not in visited:\n",
    "                candidates.put(Position(k, p.start_distance + 1))\n",
    "                came_from[k] = p\n",
    "                visited.add(k)\n",
    "\n",
    "    path = []\n",
    "    prev = p\n",
    "    while p.position != start:\n",
    "        p = came_from[p.position]\n",
    "        number = p.position[prev.position.index(0)]\n",
    "        path.append(number)\n",
    "        prev = p\n",
    "    path.reverse()\n",
    "\n",
    "    print(path)"
   ]
  },
  {
   "cell_type": "code",
   "execution_count": null,
   "metadata": {},
   "outputs": [],
   "source": []
  }
 ],
 "metadata": {
  "kernelspec": {
   "display_name": "Python 3",
   "language": "python",
   "name": "python3"
  },
  "language_info": {
   "codemirror_mode": {
    "name": "ipython",
    "version": 3
   },
   "file_extension": ".py",
   "mimetype": "text/x-python",
   "name": "python",
   "nbconvert_exporter": "python",
   "pygments_lexer": "ipython3",
   "version": "3.8.5"
  }
 },
 "nbformat": 4,
 "nbformat_minor": 5
}
